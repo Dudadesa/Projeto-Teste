{
  "nbformat": 4,
  "nbformat_minor": 0,
  "metadata": {
    "colab": {
      "provenance": [],
      "authorship_tag": "ABX9TyOBBjh0cFZapIrUnWNzgCfF",
      "include_colab_link": true
    },
    "kernelspec": {
      "name": "python3",
      "display_name": "Python 3"
    },
    "language_info": {
      "name": "python"
    }
  },
  "cells": [
    {
      "cell_type": "markdown",
      "metadata": {
        "id": "view-in-github",
        "colab_type": "text"
      },
      "source": [
        "<a href=\"https://colab.research.google.com/github/Dudadesa/Projeto-Teste/blob/main/Projeto_Teste_colab.ipynb\" target=\"_parent\"><img src=\"https://colab.research.google.com/assets/colab-badge.svg\" alt=\"Open In Colab\"/></a>"
      ]
    },
    {
      "cell_type": "code",
      "execution_count": 5,
      "metadata": {
        "colab": {
          "base_uri": "https://localhost:8080/"
        },
        "id": "mtWMI5jfanCt",
        "outputId": "2eae4b18-8438-4eb8-b39e-308b4b7bd300"
      },
      "outputs": [
        {
          "output_type": "stream",
          "name": "stdout",
          "text": [
            "Digite o nome da pessoaduda\n",
            "Digite sua idade15\n",
            "Nome:  duda Idade:  15\n",
            "Nome:dudaIdade: 15\n"
          ]
        }
      ],
      "source": [
        "nome = input(\"Digite o nome da pessoa\")\n",
        "idade = input(\"Digite sua idade\")\n",
        "print(\"Nome: \",nome,\"Idade: \",idade)\n",
        "print(f\"Nome:{nome} Idade: {idade}\")"
      ]
    }
  ]
}